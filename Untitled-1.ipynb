{
 "cells": [
  {
   "cell_type": "code",
   "execution_count": 12,
   "metadata": {},
   "outputs": [
    {
     "name": "stdout",
     "output_type": "stream",
     "text": [
      "##############################\n",
      "h\n",
      "##############################\n",
      "1111\n",
      "##############################\n",
      "{'bb': 'www'}\n"
     ]
    }
   ],
   "source": [
    "def p_print(h,t,/,b='*',*,e,p,**kwargs):\n",
    "    print(b*30)\n",
    "    print(h)\n",
    "    print(b*30)\n",
    "    print(t)\n",
    "    print(b*30)\n",
    "    print(kwargs) \n",
    "p_print('h','1111', '#',e='3',p='5',bb='www')"
   ]
  },
  {
   "cell_type": "code",
   "execution_count": 19,
   "metadata": {},
   "outputs": [
    {
     "name": "stdout",
     "output_type": "stream",
     "text": [
      "[4] [3]\n"
     ]
    }
   ],
   "source": [
    "def add_l(e,l=[]):\n",
    "    l.append(e)\n",
    "    return l\n",
    "l1=[1,2,3]\n",
    "l2=add_l(4)\n",
    "l3=add_l(3,[])\n",
    "print(l2,l3)"
   ]
  },
  {
   "cell_type": "code",
   "execution_count": 22,
   "metadata": {},
   "outputs": [
    {
     "data": {
      "text/plain": [
       "'t mutated'"
      ]
     },
     "execution_count": 22,
     "metadata": {},
     "output_type": "execute_result"
    }
   ],
   "source": [
    "def m_s(s):\n",
    "     return s+' mutated'\n",
    "s='t'\n",
    "s=m_s(s)\n",
    "s"
   ]
  },
  {
   "cell_type": "code",
   "execution_count": 23,
   "metadata": {},
   "outputs": [
    {
     "name": "stdout",
     "output_type": "stream",
     "text": [
      "0\n",
      "1\n",
      "2\n",
      "3\n",
      "4\n",
      "5\n",
      "6\n",
      "7\n",
      "8\n",
      "9\n"
     ]
    }
   ],
   "source": [
    "def g_l():\n",
    "    return list(range(10))\n",
    "for i in g_l():\n",
    "    print(i)"
   ]
  },
  {
   "cell_type": "code",
   "execution_count": 29,
   "metadata": {},
   "outputs": [
    {
     "name": "stdout",
     "output_type": "stream",
     "text": [
      "0 str\n",
      "1\n",
      "2 str\n",
      "3\n",
      "4 str\n",
      "5\n",
      "6 str\n",
      "7\n",
      "8 str\n",
      "9\n"
     ]
    }
   ],
   "source": [
    "def g():\n",
    "   for i in range(10):\n",
    "    if i% 2==0 :\n",
    "       yield str(i)+' str'\n",
    "    else:\n",
    "       yield i\n",
    "for i in g():\n",
    "    print(i)"
   ]
  },
  {
   "cell_type": "code",
   "execution_count": 30,
   "metadata": {},
   "outputs": [
    {
     "name": "stdout",
     "output_type": "stream",
     "text": [
      "22\n"
     ]
    }
   ],
   "source": [
    "def m_f(x):\n",
    "    def m1():\n",
    "        print(x)\n",
    "    m1()\n",
    "m_f('22')\n"
   ]
  },
  {
   "cell_type": "code",
   "execution_count": 79,
   "metadata": {},
   "outputs": [
    {
     "name": "stdout",
     "output_type": "stream",
     "text": [
      "[2, 4, 6]\n",
      "3\n"
     ]
    }
   ],
   "source": [
    "import functools\n",
    "import time\n",
    "def print_args(func):\n",
    "    @functools.wraps(func)\n",
    "    def w(*args,**k):\n",
    "        print(f'args={args}')\n",
    "        print(f'kargs={k}')\n",
    "        res= func(*args,**k)\n",
    "        print(f'res={res}')\n",
    "        return res\n",
    "    return w\n",
    "def s_l(func):\n",
    "    @functools.wraps(func)\n",
    "    def w(*args,**k):\n",
    "        if (len(args)!=2):\n",
    "            raise ValueError('2 args')\n",
    "        if (type(args[0])==int and type(args[1])==int):\n",
    "            return func(*args,**k)\n",
    "        if (len(args[0])!=len(args[1])):\n",
    "            raise ValueError('2 args')\n",
    "        c=[]\n",
    "        for x in range(0,len(args[0])):\n",
    "            c.append(args[0][x]+args[1][x])\n",
    "        return c\n",
    "    return w\n",
    "# @print_args\n",
    "@s_l\n",
    "def s(a,b,**k):\n",
    "    if k:\n",
    "        time.sleep(5)\n",
    "    return a+b\n",
    "\n",
    "print(s([1,2,3],[1,2,3]))\n",
    "print(s(1,2))"
   ]
  },
  {
   "cell_type": "code",
   "execution_count": 92,
   "metadata": {},
   "outputs": [
    {
     "name": "stdout",
     "output_type": "stream",
     "text": [
      "[2, 4, 6]\n",
      "3\n"
     ]
    }
   ],
   "source": [
    "import functools\n",
    "import time\n",
    "\n",
    "def m_c(func):\n",
    "    @functools.wraps(func)\n",
    "    def w(*args,**k):\n",
    "        if (len(args)!=2):\n",
    "            raise ValueError('2 args')\n",
    "        if (type(args[0])==int and type(args[1])==int):\n",
    "            return func(*args,ts=False)\n",
    "        if (len(args[0])!=len(args[1])):\n",
    "            raise ValueError('2 args')\n",
    "        c=[]\n",
    "        for x in range(0,len(args[0])):\n",
    "            c.append(args[0][x]+args[1][x])\n",
    "        return c\n",
    "    return w\n",
    "# @print_args\n",
    "@m_c\n",
    "def s(a,b,ts):\n",
    "    # print(ts)\n",
    "    if ts :\n",
    "        time.sleep(5)\n",
    "    return a+b\n",
    "\n",
    "print(s([1,2,3],[1,2,3]))\n",
    "print(s(1,2))"
   ]
  },
  {
   "cell_type": "code",
   "execution_count": 102,
   "metadata": {},
   "outputs": [
    {
     "data": {
      "text/plain": [
       "[0, 1, 4, 9, 16, 25, 36, 49, 64, 81]"
      ]
     },
     "execution_count": 102,
     "metadata": {},
     "output_type": "execute_result"
    }
   ],
   "source": [
    "x=lambda n: [i**n for i in range(10)]\n",
    "x(2)"
   ]
  },
  {
   "cell_type": "code",
   "execution_count": 97,
   "metadata": {},
   "outputs": [
    {
     "data": {
      "text/plain": [
       "range(0, 10)"
      ]
     },
     "execution_count": 97,
     "metadata": {},
     "output_type": "execute_result"
    }
   ],
   "source": [
    "x(1)"
   ]
  },
  {
   "cell_type": "code",
   "execution_count": 123,
   "metadata": {},
   "outputs": [
    {
     "ename": "ValueError",
     "evalue": "int req",
     "output_type": "error",
     "traceback": [
      "\u001b[0;31m---------------------------------------------------------------------------\u001b[0m",
      "\u001b[0;31mValueError\u001b[0m                                Traceback (most recent call last)",
      "Cell \u001b[0;32mIn[123], line 23\u001b[0m\n\u001b[1;32m     21\u001b[0m c\u001b[38;5;241m=\u001b[39mC()\n\u001b[1;32m     22\u001b[0m c\u001b[38;5;241m.\u001b[39mcache\u001b[38;5;241m=\u001b[39m[]\n\u001b[0;32m---> 23\u001b[0m \u001b[43mc\u001b[49m\u001b[38;5;241;43m.\u001b[39;49m\u001b[43mc_l\u001b[49m\u001b[38;5;241m=\u001b[39m\u001b[38;5;124m'\u001b[39m\u001b[38;5;124m222\u001b[39m\u001b[38;5;124m'\u001b[39m\n",
      "Cell \u001b[0;32mIn[123], line 18\u001b[0m, in \u001b[0;36mC.c_l\u001b[0;34m(self, value)\u001b[0m\n\u001b[1;32m     15\u001b[0m \u001b[38;5;129m@c_l\u001b[39m\u001b[38;5;241m.\u001b[39msetter\n\u001b[1;32m     16\u001b[0m \u001b[38;5;28;01mdef\u001b[39;00m \u001b[38;5;21mc_l\u001b[39m(\u001b[38;5;28mself\u001b[39m,value):\n\u001b[1;32m     17\u001b[0m     \u001b[38;5;28;01mif\u001b[39;00m (\u001b[38;5;129;01mnot\u001b[39;00m \u001b[38;5;28misinstance\u001b[39m(value,\u001b[38;5;28mint\u001b[39m)):\n\u001b[0;32m---> 18\u001b[0m         \u001b[38;5;28;01mraise\u001b[39;00m \u001b[38;5;167;01mValueError\u001b[39;00m(\u001b[38;5;124m'\u001b[39m\u001b[38;5;124mint req\u001b[39m\u001b[38;5;124m'\u001b[39m)\n\u001b[1;32m     19\u001b[0m     \u001b[38;5;28;01melse\u001b[39;00m:\n\u001b[1;32m     20\u001b[0m         \u001b[38;5;28mself\u001b[39m\u001b[38;5;241m.\u001b[39mlength\u001b[38;5;241m=\u001b[39mvalue\n",
      "\u001b[0;31mValueError\u001b[0m: int req"
     ]
    }
   ],
   "source": [
    "import functools\n",
    "class C():\n",
    "    cache=[]    \n",
    "    l=0    \n",
    "    def g(self,name):\n",
    "        # print(self.cache.index(name))\n",
    "        if (name in self.cache):\n",
    "            print(f'{name}')\n",
    "        else:\n",
    "            print(f'{name}111')\n",
    "            self.cache.append(name)\n",
    "    @property\n",
    "    def c_l(self):\n",
    "        return self.l\n",
    "    @c_l.setter\n",
    "    def c_l(self,value):\n",
    "        if (not isinstance(value,int)):\n",
    "            raise ValueError('int req')\n",
    "        else:\n",
    "            self.length=value\n",
    "c=C()\n",
    "c.cache=[]\n",
    "c.c_l='222'"
   ]
  },
  {
   "cell_type": "code",
   "execution_count": 1,
   "metadata": {},
   "outputs": [
    {
     "name": "stdout",
     "output_type": "stream",
     "text": [
      "connect\n"
     ]
    }
   ],
   "source": [
    "class Db:\n",
    "    class Postgress:\n",
    "        @staticmethod\n",
    "        def connect():\n",
    "           print('connect')\n",
    "Db.Postgress.connect()\n"
   ]
  },
  {
   "cell_type": "code",
   "execution_count": null,
   "metadata": {},
   "outputs": [],
   "source": []
  }
 ],
 "metadata": {
  "kernelspec": {
   "display_name": "Python 3",
   "language": "python",
   "name": "python3"
  },
  "language_info": {
   "codemirror_mode": {
    "name": "ipython",
    "version": 3
   },
   "file_extension": ".py",
   "mimetype": "text/x-python",
   "name": "python",
   "nbconvert_exporter": "python",
   "pygments_lexer": "ipython3",
   "version": "3.10.12"
  }
 },
 "nbformat": 4,
 "nbformat_minor": 2
}
